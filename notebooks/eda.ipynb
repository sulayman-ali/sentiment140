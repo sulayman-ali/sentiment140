{
  "cells": [
    {
      "cell_type": "code",
      "source": [
        "import pandas as pd \n",
        "import seaborn as sns\n",
        "from collections import Counter\n",
        "from nltk.tokenize import TweetTokenizer"
      ],
      "outputs": [],
      "execution_count": 1,
      "metadata": {},
      "id": "194ec107-fddb-4fbf-9f4d-f72354faa42d"
    },
    {
      "cell_type": "code",
      "source": [
        "DATASET_COLUMNS = [\"target\", \"ids\", \"date\", \"flag\", \"user\", \"text\"]"
      ],
      "outputs": [],
      "execution_count": 2,
      "metadata": {},
      "id": "67f630f6-eca9-4a19-a628-2bbec7e38398"
    },
    {
      "cell_type": "code",
      "source": [
        "# read in data\n",
        "df_train = pd.read_csv(\"./input/train.csv\",\n",
        "                header = None)\n",
        "df_test = pd.read_csv(\"./input/test.csv\",\n",
        "                header = None)"
      ],
      "outputs": [],
      "execution_count": 6,
      "metadata": {},
      "id": "9302e4d0-4b18-4bb8-8000-8b62477d28e4"
    },
    {
      "cell_type": "code",
      "source": [
        "# assign column names\n",
        "df_train.columns = DATASET_COLUMNS\n",
        "df_test.columns = DATASET_COLUMNS"
      ],
      "outputs": [],
      "execution_count": 12,
      "metadata": {},
      "id": "3c59b438-4aa8-49c9-b1fd-0091acd144b6"
    },
    {
      "cell_type": "code",
      "source": [
        "# examine target distribution\n",
        "df_train['target'].value_counts()"
      ],
      "outputs": [
        {
          "output_type": "execute_result",
          "execution_count": 11,
          "data": {
            "text/plain": "0    800000\n4    800000\nName: target, dtype: int64"
          },
          "metadata": {}
        }
      ],
      "execution_count": 11,
      "metadata": {},
      "id": "69fe8fa0-8471-4384-afec-8fe9d2885b46"
    },
    {
      "cell_type": "code",
      "source": [
        "df_test['target'].value_counts()"
      ],
      "outputs": [
        {
          "output_type": "execute_result",
          "execution_count": 10,
          "data": {
            "text/plain": "4    182\n0    177\n2    139\nName: target, dtype: int64"
          },
          "metadata": {}
        }
      ],
      "execution_count": 10,
      "metadata": {},
      "id": "773b8899-49ee-4275-b4eb-b8098ba9ddff"
    },
    {
      "cell_type": "code",
      "source": [
        "df_train['text'].sample(20)"
      ],
      "outputs": [
        {
          "output_type": "execute_result",
          "execution_count": 28,
          "data": {
            "text/plain": "722052     @robbiek im going to a bbq toooooo. wish i was...\n438899     is excited for camp... but will be sad the sec...\n1158297    Hungout with Mya, Meja and Karey at Wondermilk...\n1105389    Finished the #oakapple09 10k in approx 64 mins...\n443469     @AlexaRPD hmm, where's the option for both at ...\n1068844    @dramadupree I remember Loretta's. Those were ...\n1524212    Wonder what the films are going to be on the f...\n572847     Sellick kit doesn't come till tomorrow or frid...\n686783        so sorry for the ten-million-years-late-reply \n641588             @seannch 20 minutes  I have no willpower!\n1155822    @valeriexixi haha i have two exams this week -...\n376325     @finn_ftw ikr  aim randomly stopped working on...\n664116     back in and feeling reasonably dead. numb with...\n498618     @furyu_me I have had those days  Ask your ange...\n1313662                      @kboudit WORD! I have arrived! \n761325                                    Aaah my eye hurts \n1130673    I feel a lot better at least... I haven't lost...\n962252     @evantaubenfeld Evan ... Love You  Come In Fra...\n201322     watching Hook, reminds me of when i was younge...\n1439320          @That_Girl_Jenn Hey missy - Where are you? \nName: text, dtype: object"
          },
          "metadata": {}
        }
      ],
      "execution_count": 28,
      "metadata": {},
      "id": "7b3685cc-66a0-4c5e-adde-4cf972b43f94"
    },
    {
      "cell_type": "code",
      "source": [],
      "outputs": [],
      "execution_count": null,
      "metadata": {},
      "id": "cf60897f-728a-46d6-a775-11ab7bfb243c"
    }
  ],
  "metadata": {
    "kernelspec": {
      "display_name": "Python 3",
      "language": "python",
      "name": "python3"
    },
    "language_info": {
      "codemirror_mode": {
        "name": "ipython",
        "version": 3
      },
      "file_extension": ".py",
      "mimetype": "text/x-python",
      "name": "python",
      "nbconvert_exporter": "python",
      "pygments_lexer": "ipython3",
      "version": "3.8.8"
    },
    "nteract": {
      "version": "0.28.0"
    }
  },
  "nbformat": 4,
  "nbformat_minor": 5
}